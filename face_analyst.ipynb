{
 "cells": [
  {
   "cell_type": "code",
   "execution_count": 1,
   "id": "44ab5041-ec57-4db0-ba4b-221c7b95cd38",
   "metadata": {},
   "outputs": [
    {
     "name": "stdout",
     "output_type": "stream",
     "text": [
      "WARNING:tensorflow:From C:\\Users\\Mehmet\\anaconda3\\envs\\modelegitim\\lib\\site-packages\\tf_keras\\src\\losses.py:2976: The name tf.losses.sparse_softmax_cross_entropy is deprecated. Please use tf.compat.v1.losses.sparse_softmax_cross_entropy instead.\n",
      "\n"
     ]
    }
   ],
   "source": [
    "import tkinter as tk\n",
    "from tkinter import Label\n",
    "import cv2\n",
    "import numpy as np\n",
    "import pandas as pd\n",
    "from PIL import Image, ImageTk\n",
    "import os\n",
    "from deepface import DeepFace\n",
    "import tempfile"
   ]
  },
  {
   "cell_type": "code",
   "execution_count": 2,
   "id": "d429f528-3c0f-4b7a-a4ea-3225bc04ca11",
   "metadata": {},
   "outputs": [],
   "source": [
    "class application:\n",
    "    def __init__(self,root):\n",
    "        self.root = root\n",
    "        self.root.title(\"FaceAnalyst\")\n",
    "        self.cam1=self.camera(self.root)\n",
    "        \n",
    "        \n",
    "    class camera:\n",
    "        def analyst(self):\n",
    "            cascade_path = r'C:\\Users\\Mehmet\\anaconda3\\envs\\modelegitim\\Lib\\site-packages\\data\\haarcascade_frontalface_default.xml'\n",
    "            face_cascade = cv2.CascadeClassifier(cascade_path)\n",
    "            faces = face_cascade.detectMultiScale(self.frame, scaleFactor=1.1, minNeighbors=5)\n",
    "            persons=0\n",
    "            for (x_loc, y_loc, w, h) in faces:\n",
    "                cv2.rectangle(self.frame, (x_loc, y_loc), (x_loc+w, y_loc+h), (0, 0, 0), 3)\n",
    "                \n",
    "                persons+=1\n",
    "                self.name_label.config(text=(str(persons)+\". Kişi\"))\n",
    "                self.name_label.place(x=x_loc,y=y_loc)\n",
    "                \n",
    "                \n",
    "            \n",
    "            if self.back==True:\n",
    "                \n",
    "                cv2.imwrite(self.temp_image_path, self.frame)\n",
    "                try:\n",
    "                    analysis = DeepFace.analyze(img_path=self.temp_image_path, actions=['age', 'gender', 'emotion'])\n",
    "                    informations=\"\"\n",
    "                    for person_number in range(persons):\n",
    "                        person =analysis[person_number]\n",
    "                        \n",
    "                        genders=person['gender']\n",
    "                        gender=max(genders,key=genders.get)\n",
    "                        gender_val=max(genders.values())\n",
    "                        \n",
    "                        age=person['age'] \n",
    "                        \n",
    "                        emotions=person['emotion']\n",
    "                        emotion=max(emotions,key=emotions.get)\n",
    "                        emotion_val=max(emotions.values())\n",
    "                    \n",
    "                        informations=informations+\"\\n\"+(\n",
    "                        str(person_number+1)+\". Kişinin Bilgi Tahminleri\\n\"+\n",
    "                        \"Yaş : \"+str(age)+\"\\n\"+\n",
    "                        \"Cinsiyet : \"+str(gender)+\"  %\"+str(int(gender_val))+\" ihtimalle\\n\"+\n",
    "                        \"Duygu Hali : \"+str(emotion)+\"  %\"+str(int(emotion_val))+\" ihtimalle\")\n",
    "                    self.table_label.config(text=informations)\n",
    "                    \n",
    "                except Exception as e:\n",
    "                    self.table_label.config(text=f\"Error during analysis: {e}\")\n",
    "                    print(f\"Error during analysis: {e}\")\n",
    "                \n",
    "            else:\n",
    "                os.remove(self.temp_image_path)\n",
    "            self.root.after(30, self.analyst)\n",
    "                \n",
    "            \n",
    "        def open_camera(self):\n",
    "            self.video=cv2.VideoCapture(0)\n",
    "            self.get_img()\n",
    "            self.analyst_button=tk.Button(self.root,text='Analiz',width=10,height=2,command=self.analyst)\n",
    "            self.analyst_button.place(x=180,y=0)\n",
    "            \n",
    "        def quit(self):\n",
    "            os._exit(0)\n",
    "            \n",
    "        def __init__(self,root):\n",
    "            self.root = root\n",
    "            temp_path=r\"C:\\Users\\Mehmet\\Desktop\\face_analyst\"\n",
    "            os.makedirs(temp_path, exist_ok=True)\n",
    "            self.temp_image_path = os.path.join(temp_path, 'tempfile.jpg')\n",
    "            with open(self.temp_image_path, 'wb') as temp_file:\n",
    "                pass\n",
    "            \n",
    "            self.image_button=tk.Button(self.root,text='Kamera aç',width=10,height=2,command=self.open_camera)\n",
    "            self.quit_button=tk.Button(self.root,text='Kapat',width=10,height=2,command=self.quit)\n",
    "            \n",
    "            self.image_button.place(x=0,y=0)\n",
    "            self.quit_button.place(x=90,y=0)\n",
    "            \n",
    "            self.image_label = tk.Label(self.root)\n",
    "            self.image_label.place(x=0,y=50)\n",
    "            \n",
    "            self.name_label=tk.Label(self.root)\n",
    "            \n",
    "            self.table_label=tk.Label(self.root)\n",
    "            self.table_label.place(x=700,y=100)\n",
    "            \n",
    "\n",
    "           \n",
    "            \n",
    "        def get_img(self):\n",
    "            \n",
    "            self.back,self.frame=self.video.read()\n",
    "            if self.back==True:\n",
    "                \n",
    "                self.frame = cv2.cvtColor(self.frame, cv2.COLOR_BGR2RGB)\n",
    "                self.frame = cv2.flip(self.frame, 1)\n",
    "                self.image = Image.fromarray(self.frame)\n",
    "                self.photo = ImageTk.PhotoImage(image=self.image)\n",
    "                \n",
    "                self.image_label.config(image=self.photo)\n",
    "                \n",
    "            self.root.after(30, self.get_img)\n",
    "            \n",
    "        def __del__(self):\n",
    "            if self.video.isOpened():\n",
    "                self.video.release()\n",
    "                self.image_label.release()"
   ]
  },
  {
   "cell_type": "code",
   "execution_count": null,
   "id": "1f21e88f-65b4-4ad7-afb4-eae8980a30fc",
   "metadata": {
    "scrolled": true
   },
   "outputs": [
    {
     "name": "stderr",
     "output_type": "stream",
     "text": [
      "Action: emotion: 100%|██████████| 3/3 [00:05<00:00,  1.89s/it]\n"
     ]
    },
    {
     "name": "stdout",
     "output_type": "stream",
     "text": [
      "Error during analysis: list index out of range\n"
     ]
    },
    {
     "name": "stderr",
     "output_type": "stream",
     "text": [
      "Action: emotion: 100%|██████████| 3/3 [00:00<00:00,  7.94it/s]\n",
      "Action: emotion: 100%|██████████| 3/3 [00:00<00:00,  8.08it/s]\n"
     ]
    },
    {
     "name": "stdout",
     "output_type": "stream",
     "text": [
      "Error during analysis: Face could not be detected in C:\\Users\\Mehmet\\Desktop\\face_analyst\\tempfile.jpg.Please confirm that the picture is a face photo or consider to set enforce_detection param to False.\n"
     ]
    },
    {
     "name": "stderr",
     "output_type": "stream",
     "text": [
      "Action: emotion: 100%|██████████| 3/3 [00:00<00:00,  8.28it/s]\n",
      "Action: emotion: 100%|██████████| 3/3 [00:00<00:00,  8.57it/s]\n",
      "Action: emotion: 100%|██████████| 3/3 [00:00<00:00,  8.41it/s]\n",
      "Action: emotion: 100%|██████████| 3/3 [00:00<00:00,  8.35it/s]\n",
      "Action: emotion: 100%|██████████| 3/3 [00:00<00:00,  8.42it/s]\n",
      "Action: emotion: 100%|██████████| 3/3 [00:00<00:00,  8.44it/s]\n"
     ]
    },
    {
     "name": "stdout",
     "output_type": "stream",
     "text": [
      "Error during analysis: Face could not be detected in C:\\Users\\Mehmet\\Desktop\\face_analyst\\tempfile.jpg.Please confirm that the picture is a face photo or consider to set enforce_detection param to False.\n",
      "Error during analysis: Face could not be detected in C:\\Users\\Mehmet\\Desktop\\face_analyst\\tempfile.jpg.Please confirm that the picture is a face photo or consider to set enforce_detection param to False.\n",
      "Error during analysis: Face could not be detected in C:\\Users\\Mehmet\\Desktop\\face_analyst\\tempfile.jpg.Please confirm that the picture is a face photo or consider to set enforce_detection param to False.\n",
      "Error during analysis: Face could not be detected in C:\\Users\\Mehmet\\Desktop\\face_analyst\\tempfile.jpg.Please confirm that the picture is a face photo or consider to set enforce_detection param to False.\n",
      "Error during analysis: Face could not be detected in C:\\Users\\Mehmet\\Desktop\\face_analyst\\tempfile.jpg.Please confirm that the picture is a face photo or consider to set enforce_detection param to False.\n",
      "Error during analysis: Face could not be detected in C:\\Users\\Mehmet\\Desktop\\face_analyst\\tempfile.jpg.Please confirm that the picture is a face photo or consider to set enforce_detection param to False.\n",
      "Error during analysis: Face could not be detected in C:\\Users\\Mehmet\\Desktop\\face_analyst\\tempfile.jpg.Please confirm that the picture is a face photo or consider to set enforce_detection param to False.\n"
     ]
    },
    {
     "name": "stderr",
     "output_type": "stream",
     "text": [
      "Action: emotion: 100%|██████████| 3/3 [00:00<00:00,  8.14it/s]\n",
      "Action: emotion: 100%|██████████| 3/3 [00:00<00:00,  8.17it/s]\n",
      "Action: emotion: 100%|██████████| 3/3 [00:00<00:00,  7.40it/s]\n"
     ]
    },
    {
     "name": "stdout",
     "output_type": "stream",
     "text": [
      "Error during analysis: list index out of range\n"
     ]
    },
    {
     "name": "stderr",
     "output_type": "stream",
     "text": [
      "Action: emotion: 100%|██████████| 3/3 [00:00<00:00,  7.23it/s]\n",
      "Action: emotion: 100%|██████████| 3/3 [00:00<00:00,  8.03it/s]\n",
      "Action: emotion: 100%|██████████| 3/3 [00:00<00:00,  7.90it/s]\n"
     ]
    },
    {
     "name": "stdout",
     "output_type": "stream",
     "text": [
      "Error during analysis: list index out of range\n"
     ]
    },
    {
     "name": "stderr",
     "output_type": "stream",
     "text": [
      "Action: emotion: 100%|██████████| 3/3 [00:00<00:00,  7.77it/s]\n"
     ]
    },
    {
     "name": "stdout",
     "output_type": "stream",
     "text": [
      "Error during analysis: list index out of range\n"
     ]
    },
    {
     "name": "stderr",
     "output_type": "stream",
     "text": [
      "Action: emotion: 100%|██████████| 3/3 [00:00<00:00,  7.67it/s]\n"
     ]
    },
    {
     "name": "stdout",
     "output_type": "stream",
     "text": [
      "Error during analysis: list index out of range\n"
     ]
    },
    {
     "name": "stderr",
     "output_type": "stream",
     "text": [
      "Action: emotion: 100%|██████████| 3/3 [00:00<00:00,  7.88it/s]\n"
     ]
    },
    {
     "name": "stdout",
     "output_type": "stream",
     "text": [
      "Error during analysis: list index out of range\n"
     ]
    },
    {
     "name": "stderr",
     "output_type": "stream",
     "text": [
      "Action: emotion: 100%|██████████| 3/3 [00:00<00:00,  7.67it/s]\n",
      "Action: emotion: 100%|██████████| 3/3 [00:00<00:00,  7.87it/s]\n"
     ]
    },
    {
     "name": "stdout",
     "output_type": "stream",
     "text": [
      "Error during analysis: list index out of range\n"
     ]
    },
    {
     "name": "stderr",
     "output_type": "stream",
     "text": [
      "Action: emotion: 100%|██████████| 3/3 [00:00<00:00,  7.94it/s]\n"
     ]
    },
    {
     "name": "stdout",
     "output_type": "stream",
     "text": [
      "Error during analysis: list index out of range\n"
     ]
    },
    {
     "name": "stderr",
     "output_type": "stream",
     "text": [
      "Action: emotion: 100%|██████████| 3/3 [00:00<00:00,  7.84it/s]\n",
      "Action: emotion: 100%|██████████| 3/3 [00:00<00:00,  7.94it/s]\n"
     ]
    },
    {
     "name": "stdout",
     "output_type": "stream",
     "text": [
      "Error during analysis: list index out of range\n"
     ]
    },
    {
     "name": "stderr",
     "output_type": "stream",
     "text": [
      "Action: emotion: 100%|██████████| 3/3 [00:00<00:00,  7.93it/s]\n"
     ]
    },
    {
     "name": "stdout",
     "output_type": "stream",
     "text": [
      "Error during analysis: list index out of range\n"
     ]
    },
    {
     "name": "stderr",
     "output_type": "stream",
     "text": [
      "Action: emotion: 100%|██████████| 3/3 [00:00<00:00,  8.12it/s]\n"
     ]
    },
    {
     "name": "stdout",
     "output_type": "stream",
     "text": [
      "Error during analysis: list index out of range\n"
     ]
    },
    {
     "name": "stderr",
     "output_type": "stream",
     "text": [
      "Action: emotion: 100%|██████████| 3/3 [00:00<00:00,  7.87it/s]\n",
      "Action: emotion: 100%|██████████| 3/3 [00:00<00:00,  8.01it/s]\n",
      "Action: emotion: 100%|██████████| 3/3 [00:00<00:00,  7.71it/s]\n",
      "Action: emotion: 100%|██████████| 3/3 [00:00<00:00,  7.35it/s]\n",
      "Action: emotion: 100%|██████████| 3/3 [00:00<00:00,  7.49it/s]\n",
      "Action: emotion: 100%|██████████| 3/3 [00:00<00:00,  7.76it/s]\n"
     ]
    },
    {
     "name": "stdout",
     "output_type": "stream",
     "text": [
      "Error during analysis: list index out of range\n"
     ]
    },
    {
     "name": "stderr",
     "output_type": "stream",
     "text": [
      "Action: emotion: 100%|██████████| 3/3 [00:00<00:00,  7.99it/s]\n"
     ]
    },
    {
     "name": "stdout",
     "output_type": "stream",
     "text": [
      "Error during analysis: list index out of range\n"
     ]
    },
    {
     "name": "stderr",
     "output_type": "stream",
     "text": [
      "Action: emotion: 100%|██████████| 3/3 [00:00<00:00,  7.80it/s]\n",
      "Action: emotion: 100%|██████████| 3/3 [00:00<00:00,  7.84it/s]\n",
      "Action: emotion: 100%|██████████| 3/3 [00:00<00:00,  8.05it/s]\n",
      "Action: emotion: 100%|██████████| 3/3 [00:00<00:00,  7.92it/s]\n",
      "Action: emotion: 100%|██████████| 3/3 [00:00<00:00,  7.91it/s]\n",
      "Action: emotion: 100%|██████████| 3/3 [00:00<00:00,  7.96it/s]\n",
      "Action: emotion: 100%|██████████| 3/3 [00:00<00:00,  7.71it/s]\n"
     ]
    },
    {
     "name": "stdout",
     "output_type": "stream",
     "text": [
      "Error during analysis: list index out of range\n"
     ]
    },
    {
     "name": "stderr",
     "output_type": "stream",
     "text": [
      "Action: emotion: 100%|██████████| 3/3 [00:00<00:00,  7.85it/s]\n",
      "Action: emotion: 100%|██████████| 3/3 [00:00<00:00,  7.98it/s]\n",
      "Action: emotion: 100%|██████████| 3/3 [00:00<00:00,  7.89it/s]\n"
     ]
    },
    {
     "name": "stdout",
     "output_type": "stream",
     "text": [
      "Error during analysis: list index out of range\n"
     ]
    },
    {
     "name": "stderr",
     "output_type": "stream",
     "text": [
      "Action: emotion: 100%|██████████| 3/3 [00:00<00:00,  8.06it/s]\n"
     ]
    },
    {
     "name": "stdout",
     "output_type": "stream",
     "text": [
      "Error during analysis: list index out of range\n"
     ]
    },
    {
     "name": "stderr",
     "output_type": "stream",
     "text": [
      "Action: emotion: 100%|██████████| 3/3 [00:00<00:00,  7.97it/s]\n",
      "Action: emotion: 100%|██████████| 3/3 [00:00<00:00,  7.88it/s]\n",
      "Action: emotion: 100%|██████████| 3/3 [00:00<00:00,  7.95it/s]\n"
     ]
    },
    {
     "name": "stdout",
     "output_type": "stream",
     "text": [
      "Error during analysis: list index out of range\n",
      "Error during analysis: Face could not be detected in C:\\Users\\Mehmet\\Desktop\\face_analyst\\tempfile.jpg.Please confirm that the picture is a face photo or consider to set enforce_detection param to False.\n"
     ]
    },
    {
     "name": "stderr",
     "output_type": "stream",
     "text": [
      "Action: emotion: 100%|██████████| 3/3 [00:00<00:00,  7.74it/s]\n",
      "Action: emotion: 100%|██████████| 3/3 [00:00<00:00,  7.88it/s]\n",
      "Action: emotion: 100%|██████████| 3/3 [00:00<00:00,  7.81it/s]\n",
      "Action: gender:  33%|███▎      | 1/3 [00:00<00:00,  6.19it/s]\n"
     ]
    },
    {
     "name": "stdout",
     "output_type": "stream",
     "text": [
      "Error during analysis: [WinError 206] Dosya adı veya uzantısı çok uzun: 'C:\\\\Users\\\\Mehmet\\\\anaconda3\\\\envs\\\\modelegitim\\\\lib\\\\site-packages\\\\scipy.libs'\n"
     ]
    },
    {
     "name": "stderr",
     "output_type": "stream",
     "text": [
      "Action: age:   0%|          | 0/3 [00:00<?, ?it/s]    \n"
     ]
    },
    {
     "name": "stdout",
     "output_type": "stream",
     "text": [
      "Error during analysis: [WinError 206] Dosya adı veya uzantısı çok uzun: 'C:\\\\Users\\\\Mehmet\\\\anaconda3\\\\envs\\\\modelegitim\\\\lib\\\\site-packages\\\\scipy.libs'\n"
     ]
    },
    {
     "name": "stderr",
     "output_type": "stream",
     "text": [
      "Action: age:   0%|          | 0/3 [00:00<?, ?it/s]    \n"
     ]
    },
    {
     "name": "stdout",
     "output_type": "stream",
     "text": [
      "Error during analysis: [WinError 206] Dosya adı veya uzantısı çok uzun: 'C:\\\\Users\\\\Mehmet\\\\anaconda3\\\\envs\\\\modelegitim\\\\lib\\\\site-packages\\\\scipy.libs'\n"
     ]
    },
    {
     "name": "stderr",
     "output_type": "stream",
     "text": [
      "Action: age:   0%|          | 0/3 [00:00<?, ?it/s]    "
     ]
    },
    {
     "name": "stdout",
     "output_type": "stream",
     "text": [
      "Error during analysis: [WinError 206] Dosya adı veya uzantısı çok uzun: 'C:\\\\Users\\\\Mehmet\\\\anaconda3\\\\envs\\\\modelegitim\\\\lib\\\\site-packages\\\\scipy.libs'\n"
     ]
    },
    {
     "name": "stderr",
     "output_type": "stream",
     "text": [
      "\n",
      "Action: age:   0%|          | 0/3 [00:00<?, ?it/s]    \n"
     ]
    },
    {
     "name": "stdout",
     "output_type": "stream",
     "text": [
      "Error during analysis: [WinError 206] Dosya adı veya uzantısı çok uzun: 'C:\\\\Users\\\\Mehmet\\\\anaconda3\\\\envs\\\\modelegitim\\\\lib\\\\site-packages\\\\scipy.libs'\n"
     ]
    },
    {
     "name": "stderr",
     "output_type": "stream",
     "text": [
      "Action: age:   0%|          | 0/3 [00:00<?, ?it/s]    \n"
     ]
    },
    {
     "name": "stdout",
     "output_type": "stream",
     "text": [
      "Error during analysis: [WinError 206] Dosya adı veya uzantısı çok uzun: 'C:\\\\Users\\\\Mehmet\\\\anaconda3\\\\envs\\\\modelegitim\\\\lib\\\\site-packages\\\\scipy.libs'\n"
     ]
    },
    {
     "name": "stderr",
     "output_type": "stream",
     "text": [
      "Action: age:   0%|          | 0/3 [00:00<?, ?it/s]    "
     ]
    },
    {
     "name": "stdout",
     "output_type": "stream",
     "text": [
      "Error during analysis: [WinError 206] Dosya adı veya uzantısı çok uzun: 'C:\\\\Users\\\\Mehmet\\\\anaconda3\\\\envs\\\\modelegitim\\\\lib\\\\site-packages\\\\scipy.libs'\n"
     ]
    },
    {
     "name": "stderr",
     "output_type": "stream",
     "text": [
      "\n",
      "Action: age:   0%|          | 0/3 [00:00<?, ?it/s]    \n"
     ]
    },
    {
     "name": "stdout",
     "output_type": "stream",
     "text": [
      "Error during analysis: [WinError 206] Dosya adı veya uzantısı çok uzun: 'C:\\\\Users\\\\Mehmet\\\\anaconda3\\\\envs\\\\modelegitim\\\\lib\\\\site-packages\\\\scipy.libs'\n"
     ]
    },
    {
     "name": "stderr",
     "output_type": "stream",
     "text": [
      "Action: age:   0%|          | 0/3 [00:00<?, ?it/s]    \n"
     ]
    },
    {
     "name": "stdout",
     "output_type": "stream",
     "text": [
      "Error during analysis: [WinError 206] Dosya adı veya uzantısı çok uzun: 'C:\\\\Users\\\\Mehmet\\\\anaconda3\\\\envs\\\\modelegitim\\\\lib\\\\site-packages\\\\scipy.libs'\n"
     ]
    },
    {
     "name": "stderr",
     "output_type": "stream",
     "text": [
      "Action: age:   0%|          | 0/3 [00:00<?, ?it/s]    \n"
     ]
    },
    {
     "name": "stdout",
     "output_type": "stream",
     "text": [
      "Error during analysis: [WinError 206] Dosya adı veya uzantısı çok uzun: 'C:\\\\Users\\\\Mehmet\\\\anaconda3\\\\envs\\\\modelegitim\\\\lib\\\\site-packages\\\\scipy.libs'\n"
     ]
    },
    {
     "name": "stderr",
     "output_type": "stream",
     "text": [
      "Action: age:   0%|          | 0/3 [00:00<?, ?it/s]    \n"
     ]
    },
    {
     "name": "stdout",
     "output_type": "stream",
     "text": [
      "Error during analysis: [WinError 206] Dosya adı veya uzantısı çok uzun: 'C:\\\\Users\\\\Mehmet\\\\anaconda3\\\\envs\\\\modelegitim\\\\lib\\\\site-packages\\\\scipy.libs'\n"
     ]
    },
    {
     "name": "stderr",
     "output_type": "stream",
     "text": [
      "Action: age:   0%|          | 0/3 [00:00<?, ?it/s]    "
     ]
    },
    {
     "name": "stdout",
     "output_type": "stream",
     "text": [
      "Error during analysis: [WinError 206] Dosya adı veya uzantısı çok uzun: 'C:\\\\Users\\\\Mehmet\\\\anaconda3\\\\envs\\\\modelegitim\\\\lib\\\\site-packages\\\\scipy.libs'\n"
     ]
    },
    {
     "name": "stderr",
     "output_type": "stream",
     "text": [
      "\n",
      "Action: age:   0%|          | 0/3 [00:00<?, ?it/s]    \n"
     ]
    },
    {
     "name": "stdout",
     "output_type": "stream",
     "text": [
      "Error during analysis: [WinError 206] Dosya adı veya uzantısı çok uzun: 'C:\\\\Users\\\\Mehmet\\\\anaconda3\\\\envs\\\\modelegitim\\\\lib\\\\site-packages\\\\scipy.libs'\n"
     ]
    },
    {
     "name": "stderr",
     "output_type": "stream",
     "text": [
      "Action: age:   0%|          | 0/3 [00:00<?, ?it/s]    \n"
     ]
    },
    {
     "name": "stdout",
     "output_type": "stream",
     "text": [
      "Error during analysis: [WinError 206] Dosya adı veya uzantısı çok uzun: 'C:\\\\Users\\\\Mehmet\\\\anaconda3\\\\envs\\\\modelegitim\\\\lib\\\\site-packages\\\\scipy.libs'\n"
     ]
    },
    {
     "name": "stderr",
     "output_type": "stream",
     "text": [
      "Action: age:   0%|          | 0/3 [00:00<?, ?it/s]    \n"
     ]
    },
    {
     "name": "stdout",
     "output_type": "stream",
     "text": [
      "Error during analysis: [WinError 206] Dosya adı veya uzantısı çok uzun: 'C:\\\\Users\\\\Mehmet\\\\anaconda3\\\\envs\\\\modelegitim\\\\lib\\\\site-packages\\\\scipy.libs'\n"
     ]
    },
    {
     "name": "stderr",
     "output_type": "stream",
     "text": [
      "Action: age:   0%|          | 0/3 [00:00<?, ?it/s]    \n"
     ]
    },
    {
     "name": "stdout",
     "output_type": "stream",
     "text": [
      "Error during analysis: [WinError 206] Dosya adı veya uzantısı çok uzun: 'C:\\\\Users\\\\Mehmet\\\\anaconda3\\\\envs\\\\modelegitim\\\\lib\\\\site-packages\\\\scipy.libs'\n"
     ]
    },
    {
     "name": "stderr",
     "output_type": "stream",
     "text": [
      "Action: age:   0%|          | 0/3 [00:00<?, ?it/s]    \n"
     ]
    },
    {
     "name": "stdout",
     "output_type": "stream",
     "text": [
      "Error during analysis: [WinError 206] Dosya adı veya uzantısı çok uzun: 'C:\\\\Users\\\\Mehmet\\\\anaconda3\\\\envs\\\\modelegitim\\\\lib\\\\site-packages\\\\scipy.libs'\n"
     ]
    },
    {
     "name": "stderr",
     "output_type": "stream",
     "text": [
      "Action: age:   0%|          | 0/3 [00:00<?, ?it/s]    \n"
     ]
    },
    {
     "name": "stdout",
     "output_type": "stream",
     "text": [
      "Error during analysis: [WinError 206] Dosya adı veya uzantısı çok uzun: 'C:\\\\Users\\\\Mehmet\\\\anaconda3\\\\envs\\\\modelegitim\\\\lib\\\\site-packages\\\\scipy.libs'\n"
     ]
    },
    {
     "name": "stderr",
     "output_type": "stream",
     "text": [
      "Action: age:   0%|          | 0/3 [00:00<?, ?it/s]    \n"
     ]
    },
    {
     "name": "stdout",
     "output_type": "stream",
     "text": [
      "Error during analysis: [WinError 206] Dosya adı veya uzantısı çok uzun: 'C:\\\\Users\\\\Mehmet\\\\anaconda3\\\\envs\\\\modelegitim\\\\lib\\\\site-packages\\\\scipy.libs'\n"
     ]
    },
    {
     "name": "stderr",
     "output_type": "stream",
     "text": [
      "Action: age:   0%|          | 0/3 [00:00<?, ?it/s]    \n"
     ]
    },
    {
     "name": "stdout",
     "output_type": "stream",
     "text": [
      "Error during analysis: [WinError 206] Dosya adı veya uzantısı çok uzun: 'C:\\\\Users\\\\Mehmet\\\\anaconda3\\\\envs\\\\modelegitim\\\\lib\\\\site-packages\\\\scipy.libs'\n"
     ]
    },
    {
     "name": "stderr",
     "output_type": "stream",
     "text": [
      "Action: age:   0%|          | 0/3 [00:00<?, ?it/s]    \n"
     ]
    },
    {
     "name": "stdout",
     "output_type": "stream",
     "text": [
      "Error during analysis: [WinError 206] Dosya adı veya uzantısı çok uzun: 'C:\\\\Users\\\\Mehmet\\\\anaconda3\\\\envs\\\\modelegitim\\\\lib\\\\site-packages\\\\scipy.libs'\n"
     ]
    },
    {
     "name": "stderr",
     "output_type": "stream",
     "text": [
      "Action: age:   0%|          | 0/3 [00:00<?, ?it/s]    \n"
     ]
    },
    {
     "name": "stdout",
     "output_type": "stream",
     "text": [
      "Error during analysis: [WinError 206] Dosya adı veya uzantısı çok uzun: 'C:\\\\Users\\\\Mehmet\\\\anaconda3\\\\envs\\\\modelegitim\\\\lib\\\\site-packages\\\\scipy.libs'\n"
     ]
    },
    {
     "name": "stderr",
     "output_type": "stream",
     "text": [
      "Action: age:   0%|          | 0/3 [00:00<?, ?it/s]    \n"
     ]
    },
    {
     "name": "stdout",
     "output_type": "stream",
     "text": [
      "Error during analysis: [WinError 206] Dosya adı veya uzantısı çok uzun: 'C:\\\\Users\\\\Mehmet\\\\anaconda3\\\\envs\\\\modelegitim\\\\lib\\\\site-packages\\\\scipy.libs'\n"
     ]
    },
    {
     "name": "stderr",
     "output_type": "stream",
     "text": [
      "Action: age:   0%|          | 0/3 [00:00<?, ?it/s]    \n"
     ]
    },
    {
     "name": "stdout",
     "output_type": "stream",
     "text": [
      "Error during analysis: [WinError 206] Dosya adı veya uzantısı çok uzun: 'C:\\\\Users\\\\Mehmet\\\\anaconda3\\\\envs\\\\modelegitim\\\\lib\\\\site-packages\\\\scipy.libs'\n"
     ]
    },
    {
     "name": "stderr",
     "output_type": "stream",
     "text": [
      "Action: age:   0%|          | 0/3 [00:00<?, ?it/s]    \n"
     ]
    },
    {
     "name": "stdout",
     "output_type": "stream",
     "text": [
      "Error during analysis: [WinError 206] Dosya adı veya uzantısı çok uzun: 'C:\\\\Users\\\\Mehmet\\\\anaconda3\\\\envs\\\\modelegitim\\\\lib\\\\site-packages\\\\scipy.libs'\n"
     ]
    },
    {
     "name": "stderr",
     "output_type": "stream",
     "text": [
      "Action: age:   0%|          | 0/3 [00:00<?, ?it/s]    \n"
     ]
    },
    {
     "name": "stdout",
     "output_type": "stream",
     "text": [
      "Error during analysis: [WinError 206] Dosya adı veya uzantısı çok uzun: 'C:\\\\Users\\\\Mehmet\\\\anaconda3\\\\envs\\\\modelegitim\\\\lib\\\\site-packages\\\\scipy.libs'\n"
     ]
    },
    {
     "name": "stderr",
     "output_type": "stream",
     "text": [
      "Action: age:   0%|          | 0/3 [00:00<?, ?it/s]    \n"
     ]
    },
    {
     "name": "stdout",
     "output_type": "stream",
     "text": [
      "Error during analysis: [WinError 206] Dosya adı veya uzantısı çok uzun: 'C:\\\\Users\\\\Mehmet\\\\anaconda3\\\\envs\\\\modelegitim\\\\lib\\\\site-packages\\\\scipy.libs'\n"
     ]
    },
    {
     "name": "stderr",
     "output_type": "stream",
     "text": [
      "Action: age:   0%|          | 0/3 [00:00<?, ?it/s]    \n"
     ]
    },
    {
     "name": "stdout",
     "output_type": "stream",
     "text": [
      "Error during analysis: [WinError 206] Dosya adı veya uzantısı çok uzun: 'C:\\\\Users\\\\Mehmet\\\\anaconda3\\\\envs\\\\modelegitim\\\\lib\\\\site-packages\\\\scipy.libs'\n"
     ]
    },
    {
     "name": "stderr",
     "output_type": "stream",
     "text": [
      "Action: age:   0%|          | 0/3 [00:00<?, ?it/s]    \n"
     ]
    },
    {
     "name": "stdout",
     "output_type": "stream",
     "text": [
      "Error during analysis: [WinError 206] Dosya adı veya uzantısı çok uzun: 'C:\\\\Users\\\\Mehmet\\\\anaconda3\\\\envs\\\\modelegitim\\\\lib\\\\site-packages\\\\scipy.libs'\n"
     ]
    },
    {
     "name": "stderr",
     "output_type": "stream",
     "text": [
      "Action: age:   0%|          | 0/3 [00:00<?, ?it/s]    \n"
     ]
    },
    {
     "name": "stdout",
     "output_type": "stream",
     "text": [
      "Error during analysis: [WinError 206] Dosya adı veya uzantısı çok uzun: 'C:\\\\Users\\\\Mehmet\\\\anaconda3\\\\envs\\\\modelegitim\\\\lib\\\\site-packages\\\\scipy.libs'\n"
     ]
    },
    {
     "name": "stderr",
     "output_type": "stream",
     "text": [
      "Action: age:   0%|          | 0/3 [00:00<?, ?it/s]    \n"
     ]
    },
    {
     "name": "stdout",
     "output_type": "stream",
     "text": [
      "Error during analysis: [WinError 206] Dosya adı veya uzantısı çok uzun: 'C:\\\\Users\\\\Mehmet\\\\anaconda3\\\\envs\\\\modelegitim\\\\lib\\\\site-packages\\\\scipy.libs'\n"
     ]
    },
    {
     "name": "stderr",
     "output_type": "stream",
     "text": [
      "Action: age:   0%|          | 0/3 [00:00<?, ?it/s]    "
     ]
    }
   ],
   "source": [
    "root=tk.Tk()\n",
    "ap1=application(root)\n",
    "root.mainloop()\n",
    "del root\n"
   ]
  },
  {
   "cell_type": "code",
   "execution_count": null,
   "id": "0919f5be-70b5-47d4-9853-687a23b62675",
   "metadata": {},
   "outputs": [],
   "source": []
  }
 ],
 "metadata": {
  "kernelspec": {
   "display_name": "Python 3 (ipykernel)",
   "language": "python",
   "name": "python3"
  },
  "language_info": {
   "codemirror_mode": {
    "name": "ipython",
    "version": 3
   },
   "file_extension": ".py",
   "mimetype": "text/x-python",
   "name": "python",
   "nbconvert_exporter": "python",
   "pygments_lexer": "ipython3",
   "version": "3.9.19"
  }
 },
 "nbformat": 4,
 "nbformat_minor": 5
}
